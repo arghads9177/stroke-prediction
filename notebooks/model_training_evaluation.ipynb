{
 "cells": [
  {
   "cell_type": "markdown",
   "id": "17e21119-32a5-4af2-b026-0c8cd8a4a0e3",
   "metadata": {},
   "source": [
    "# Stroke Prediction\n",
    "\n",
    "## Context\n",
    "\n",
    "Strokes are a significant health concern worldwide, often leading to severe consequences including long-term disability or death. Predicting the likelihood of a stroke can play a crucial role in early intervention and treatment, potentially saving lives and improving patient outcomes.\n",
    "\n",
    "According to the World Health Organization (WHO), stroke is the second leading cause of death globally, responsible for approximately 11% of total deaths. This project uses a dataset to predict whether a patient is likely to suffer a stroke based on input parameters such as gender, age, various diseases, and smoking status. Each row in the dataset provides relevant information about a patient.\n",
    "\n",
    "## Source\n",
    "\n",
    "This dataset is available on Kaggele in the following link:\n",
    "> https://www.kaggle.com/datasets/fedesoriano/stroke-prediction-dataset/data\n",
    "\n",
    "## Data Dictionary\n",
    "\n",
    "- **id**: Unique identifier for each patient. It contains Numeric Data.\n",
    "- **gender**: Gender of the patient. It contains categorical data. (**\"Male\", \"Female\", or \"Other\"**)\n",
    "- **age**: Age of the patient. It contains numeric data.\n",
    "- **hypertension**: It contains binary data whether the patient has hypertension or not. 0 if the patient doesn't have hypertension, 1 if the patient has hypertension.\n",
    "- **heart_disease**: It contains binary data whether the patient has heart disease or not. 0 if the patient doesn't have any heart diseases, 1 if the patient has a heart disease.\n",
    "- **ever_married**: It contains categorical data whether the patient is married or not. (**\"No\" or \"Yes\"**)\n",
    "- **work_type**: Type of work of the patient. It contans categorical data. (**\"children\", \"Govt_job\", \"Never_worked\", \"Private\", or \"Self-employed\"**)\n",
    "- **Residence_type**: Type of residence of the patient. It contains categorical data. (**\"Rural\" or \"Urban\"**)\n",
    "- **avg_glucose_level**: Average glucose level in blood. It contains numeric data.\n",
    "- **smoking_status**: Status of smoking habit of the patient. It contains categorical data. (**\"formerly smoked\", \"never smoked\", \"smokes\", or \"Unknown\"**)\n",
    "- **stroke**: It is the output feature. 1 if the patient had a stroke, 0 if not\n",
    "\n",
    "*Note: \"Unknown\" in `smoking_status` means that the information is unavailable for this patient.\n",
    "\n",
    "## Problem Statement\n",
    "\n",
    "1. **Model Training**: The objective of model training is to train the model with the data so that it can predict the risk of stroke.\n",
    "2. **Model Evaluation**: Evaluate the performance of the model with different metrics such as accuracy, precision, recall and F1 score.\n"
   ]
  },
  {
   "cell_type": "markdown",
   "id": "64e246c6-3cbc-4495-af89-ae2c92353450",
   "metadata": {},
   "source": [
    "### Load Libraries"
   ]
  },
  {
   "cell_type": "code",
   "execution_count": 111,
   "id": "f406384a-5c51-41a5-881a-8362233197f2",
   "metadata": {},
   "outputs": [],
   "source": [
    "# General\n",
    "import pandas as pd\n",
    "import numpy as np\n",
    "import os\n",
    "import warnings\n",
    "import pickle\n",
    "\n",
    "# Preprocessing\n",
    "from sklearn.preprocessing import StandardScaler\n",
    "from sklearn.model_selection import train_test_split\n",
    "\n",
    "# Model & Evaluation metrics\n",
    "from sklearn.ensemble import RandomForestClassifier\n",
    "from sklearn.metrics import accuracy_score, precision_score, recall_score, f1_score\n",
    "\n",
    "# Optimization\n",
    "from sklearn.model_selection import GridSearchCV"
   ]
  },
  {
   "cell_type": "markdown",
   "id": "2d8b3ea9-9aaf-4fa3-8e4b-784ef238c27f",
   "metadata": {},
   "source": [
    "### Settings"
   ]
  },
  {
   "cell_type": "code",
   "execution_count": 93,
   "id": "6a3ff37c-b3ed-4bfd-845b-9f97d39fb78a",
   "metadata": {},
   "outputs": [],
   "source": [
    "# Warnings\n",
    "warnings.filterwarnings(\"ignore\")\n",
    "\n",
    "# Path\n",
    "data_path = \"../data\"\n",
    "model_path = \"../models\"\n",
    "csv_path = os.path.join(data_path, \"stroke_d_e.csv\")"
   ]
  },
  {
   "cell_type": "markdown",
   "id": "3dfd6697-5bb6-4842-a891-f111328d76a5",
   "metadata": {},
   "source": [
    "### Load Data"
   ]
  },
  {
   "cell_type": "code",
   "execution_count": 94,
   "id": "e30390c5-47be-4d48-a810-0ccffd7d0a67",
   "metadata": {},
   "outputs": [],
   "source": [
    "df = pd.read_csv(csv_path)"
   ]
  },
  {
   "cell_type": "code",
   "execution_count": 95,
   "id": "6289a0e9-ac8b-49fc-a966-8388c5d560b1",
   "metadata": {},
   "outputs": [
    {
     "data": {
      "text/html": [
       "<div>\n",
       "<style scoped>\n",
       "    .dataframe tbody tr th:only-of-type {\n",
       "        vertical-align: middle;\n",
       "    }\n",
       "\n",
       "    .dataframe tbody tr th {\n",
       "        vertical-align: top;\n",
       "    }\n",
       "\n",
       "    .dataframe thead th {\n",
       "        text-align: right;\n",
       "    }\n",
       "</style>\n",
       "<table border=\"1\" class=\"dataframe\">\n",
       "  <thead>\n",
       "    <tr style=\"text-align: right;\">\n",
       "      <th></th>\n",
       "      <th>age</th>\n",
       "      <th>hypertension</th>\n",
       "      <th>heart_disease</th>\n",
       "      <th>ever_married</th>\n",
       "      <th>Residence_type</th>\n",
       "      <th>avg_glucose_level</th>\n",
       "      <th>bmi</th>\n",
       "      <th>stroke</th>\n",
       "      <th>gender_Male</th>\n",
       "      <th>gender_Other</th>\n",
       "      <th>work_type_Never_worked</th>\n",
       "      <th>work_type_Private</th>\n",
       "      <th>work_type_Self-employed</th>\n",
       "      <th>work_type_children</th>\n",
       "      <th>smoking_status_formerly smoked</th>\n",
       "      <th>smoking_status_never smoked</th>\n",
       "      <th>smoking_status_smokes</th>\n",
       "    </tr>\n",
       "  </thead>\n",
       "  <tbody>\n",
       "    <tr>\n",
       "      <th>0</th>\n",
       "      <td>67.0</td>\n",
       "      <td>0</td>\n",
       "      <td>1</td>\n",
       "      <td>1</td>\n",
       "      <td>1</td>\n",
       "      <td>228.69</td>\n",
       "      <td>36.6</td>\n",
       "      <td>1</td>\n",
       "      <td>1</td>\n",
       "      <td>0</td>\n",
       "      <td>0</td>\n",
       "      <td>1</td>\n",
       "      <td>0</td>\n",
       "      <td>0</td>\n",
       "      <td>1</td>\n",
       "      <td>0</td>\n",
       "      <td>0</td>\n",
       "    </tr>\n",
       "    <tr>\n",
       "      <th>1</th>\n",
       "      <td>80.0</td>\n",
       "      <td>0</td>\n",
       "      <td>1</td>\n",
       "      <td>1</td>\n",
       "      <td>0</td>\n",
       "      <td>105.92</td>\n",
       "      <td>32.5</td>\n",
       "      <td>1</td>\n",
       "      <td>1</td>\n",
       "      <td>0</td>\n",
       "      <td>0</td>\n",
       "      <td>1</td>\n",
       "      <td>0</td>\n",
       "      <td>0</td>\n",
       "      <td>0</td>\n",
       "      <td>1</td>\n",
       "      <td>0</td>\n",
       "    </tr>\n",
       "    <tr>\n",
       "      <th>2</th>\n",
       "      <td>49.0</td>\n",
       "      <td>0</td>\n",
       "      <td>0</td>\n",
       "      <td>1</td>\n",
       "      <td>1</td>\n",
       "      <td>171.23</td>\n",
       "      <td>34.4</td>\n",
       "      <td>1</td>\n",
       "      <td>0</td>\n",
       "      <td>0</td>\n",
       "      <td>0</td>\n",
       "      <td>1</td>\n",
       "      <td>0</td>\n",
       "      <td>0</td>\n",
       "      <td>0</td>\n",
       "      <td>0</td>\n",
       "      <td>1</td>\n",
       "    </tr>\n",
       "    <tr>\n",
       "      <th>3</th>\n",
       "      <td>74.0</td>\n",
       "      <td>1</td>\n",
       "      <td>1</td>\n",
       "      <td>1</td>\n",
       "      <td>0</td>\n",
       "      <td>70.09</td>\n",
       "      <td>27.4</td>\n",
       "      <td>1</td>\n",
       "      <td>1</td>\n",
       "      <td>0</td>\n",
       "      <td>0</td>\n",
       "      <td>1</td>\n",
       "      <td>0</td>\n",
       "      <td>0</td>\n",
       "      <td>0</td>\n",
       "      <td>1</td>\n",
       "      <td>0</td>\n",
       "    </tr>\n",
       "    <tr>\n",
       "      <th>4</th>\n",
       "      <td>69.0</td>\n",
       "      <td>0</td>\n",
       "      <td>0</td>\n",
       "      <td>0</td>\n",
       "      <td>1</td>\n",
       "      <td>94.39</td>\n",
       "      <td>22.8</td>\n",
       "      <td>1</td>\n",
       "      <td>0</td>\n",
       "      <td>0</td>\n",
       "      <td>0</td>\n",
       "      <td>1</td>\n",
       "      <td>0</td>\n",
       "      <td>0</td>\n",
       "      <td>0</td>\n",
       "      <td>1</td>\n",
       "      <td>0</td>\n",
       "    </tr>\n",
       "  </tbody>\n",
       "</table>\n",
       "</div>"
      ],
      "text/plain": [
       "    age  hypertension  heart_disease  ever_married  Residence_type  \\\n",
       "0  67.0             0              1             1               1   \n",
       "1  80.0             0              1             1               0   \n",
       "2  49.0             0              0             1               1   \n",
       "3  74.0             1              1             1               0   \n",
       "4  69.0             0              0             0               1   \n",
       "\n",
       "   avg_glucose_level   bmi  stroke  gender_Male  gender_Other  \\\n",
       "0             228.69  36.6       1            1             0   \n",
       "1             105.92  32.5       1            1             0   \n",
       "2             171.23  34.4       1            0             0   \n",
       "3              70.09  27.4       1            1             0   \n",
       "4              94.39  22.8       1            0             0   \n",
       "\n",
       "   work_type_Never_worked  work_type_Private  work_type_Self-employed  \\\n",
       "0                       0                  1                        0   \n",
       "1                       0                  1                        0   \n",
       "2                       0                  1                        0   \n",
       "3                       0                  1                        0   \n",
       "4                       0                  1                        0   \n",
       "\n",
       "   work_type_children  smoking_status_formerly smoked  \\\n",
       "0                   0                               1   \n",
       "1                   0                               0   \n",
       "2                   0                               0   \n",
       "3                   0                               0   \n",
       "4                   0                               0   \n",
       "\n",
       "   smoking_status_never smoked  smoking_status_smokes  \n",
       "0                            0                      0  \n",
       "1                            1                      0  \n",
       "2                            0                      1  \n",
       "3                            1                      0  \n",
       "4                            1                      0  "
      ]
     },
     "execution_count": 95,
     "metadata": {},
     "output_type": "execute_result"
    }
   ],
   "source": [
    "# Check data\n",
    "df.head()"
   ]
  },
  {
   "cell_type": "markdown",
   "id": "eab9837f-eea9-4022-8e59-33143a8ffca8",
   "metadata": {},
   "source": [
    "### Data Preprocessing"
   ]
  },
  {
   "cell_type": "code",
   "execution_count": 96,
   "id": "62b44f79-34a8-458c-bf2e-86b7c98222d6",
   "metadata": {},
   "outputs": [],
   "source": [
    "# Separate the Input and output feature\n",
    "X = df.drop(\"stroke\", axis= 1)\n",
    "y = df[\"stroke\"]"
   ]
  },
  {
   "cell_type": "code",
   "execution_count": 97,
   "id": "f7680f14-94a3-4e23-899d-8ab033592843",
   "metadata": {},
   "outputs": [],
   "source": [
    "# Split train and test\n",
    "X_train,X_test, y_train, y_test = train_test_split(X, y, test_size=0.2, random_state=42)"
   ]
  },
  {
   "cell_type": "code",
   "execution_count": 98,
   "id": "fc043204-499f-42f0-a05d-20f76c8eda38",
   "metadata": {},
   "outputs": [],
   "source": [
    "# Standardize the data\n",
    "scaler = StandardScaler()\n",
    "X_train_s = scaler.fit_transform(X_train)\n",
    "X_test_s = scaler.transform(X_test)"
   ]
  },
  {
   "cell_type": "markdown",
   "id": "0c739252-d9ef-4dfa-8de3-597297b10cfc",
   "metadata": {},
   "source": [
    "### Model Training and Evaluation"
   ]
  },
  {
   "cell_type": "code",
   "execution_count": 105,
   "id": "99797dc0-7e2b-4b44-92d1-4844e183c98f",
   "metadata": {},
   "outputs": [],
   "source": [
    "# Train the model and evaluate metrics\n",
    "def train_evaluate(model):\n",
    "    # Train the model\n",
    "    model.fit(X_train_s, y_train)\n",
    "\n",
    "    # Predict with train and test data\n",
    "    y_train_pred = model.predict(X_train_s)\n",
    "    y_test_pred = model.predict(X_test_s)\n",
    "\n",
    "    # Evaluate Train data\n",
    "    print(\"=\" * 60)\n",
    "    print(\"TRANING METRICS\")\n",
    "    print(\"=\" * 60)\n",
    "    print(f\"Accuracy: {accuracy_score(y_train, y_train_pred): .2f}\")\n",
    "    print(f\"Precision: {precision_score(y_train, y_train_pred): .2f}\")\n",
    "    print(f\"Recall: {recall_score(y_train, y_train_pred): .2f}\")\n",
    "    print(f\"F1: {f1_score(y_train, y_train_pred): .2f}\")\n",
    "\n",
    "    # Evaluate Test data\n",
    "    print(\"=\" * 60)\n",
    "    print(\"TEST METRICS\")\n",
    "    print(\"=\" * 60)\n",
    "    print(f\"Accuracy: {accuracy_score(y_test, y_test_pred): .2f}\")\n",
    "    print(f\"Precision: {precision_score(y_test, y_test_pred): .2f}\")\n",
    "    print(f\"Recall: {recall_score(y_test, y_test_pred): .2f}\")\n",
    "    print(f\"F1: {f1_score(y_test, y_test_pred): .2f}\")"
   ]
  },
  {
   "cell_type": "code",
   "execution_count": 106,
   "id": "eea0db8a-da4b-4b8e-bec5-581582216313",
   "metadata": {},
   "outputs": [
    {
     "name": "stdout",
     "output_type": "stream",
     "text": [
      "============================================================\n",
      "TRANING METRICS\n",
      "============================================================\n",
      "Accuracy:  1.00\n",
      "Precision:  1.00\n",
      "Recall:  1.00\n",
      "F1:  1.00\n",
      "============================================================\n",
      "TEST METRICS\n",
      "============================================================\n",
      "Accuracy:  0.96\n",
      "Precision:  0.00\n",
      "Recall:  0.00\n",
      "F1:  0.00\n"
     ]
    }
   ],
   "source": [
    "# Random Forest\n",
    "rf = RandomForestClassifier()\n",
    "train_evaluate(rf)"
   ]
  },
  {
   "cell_type": "markdown",
   "id": "d4fbf399-ac35-4c23-a1f0-cdc843503cd1",
   "metadata": {},
   "source": [
    "### Conclusion\n",
    "\n",
    "- After dropping the missing values present in BMI and alsodropping the outlier rows the accuracy of trained model is **96%**."
   ]
  },
  {
   "cell_type": "markdown",
   "id": "fdcfb67c-6eb7-4974-969a-571fe25c59ad",
   "metadata": {},
   "source": [
    "### Model Optimization"
   ]
  },
  {
   "cell_type": "code",
   "execution_count": 107,
   "id": "4032b662-1e34-4fd7-9ba4-6add3c77258d",
   "metadata": {},
   "outputs": [],
   "source": [
    "# Define parameter dictionary\n",
    "param_dict = {\n",
    "    \"n_estimators\": [100, 200, 500],\n",
    "    \"criterion\": [\"gini\", \"entropy\"],\n",
    "    \"max_depth\": [None, 2, 3, 5],\n",
    "    \"min_samples_split\": [2, 3, 4],\n",
    "    \"min_samples_leaf\": [1, 2, 3]\n",
    "}"
   ]
  },
  {
   "cell_type": "code",
   "execution_count": 109,
   "id": "9bf25a91-2cf7-4a1a-bc4c-a28c29b7c526",
   "metadata": {},
   "outputs": [
    {
     "name": "stdout",
     "output_type": "stream",
     "text": [
      "Fitting 5 folds for each of 216 candidates, totalling 1080 fits\n",
      "Best Accuracy: 0.9631057737146606\n",
      "Best Parameter Set: {'criterion': 'gini', 'max_depth': None, 'min_samples_leaf': 2, 'min_samples_split': 2, 'n_estimators': 200}\n"
     ]
    }
   ],
   "source": [
    "# Hyperparameter tuning\n",
    "rfht = RandomForestClassifier()\n",
    "gscv = GridSearchCV(estimator=rfht, param_grid= param_dict, cv= 5, verbose= 1)\n",
    "\n",
    "gscv.fit(X, y)\n",
    "\n",
    "best_params = gscv.best_params_\n",
    "print(f\"Best Accuracy: {gscv.best_score_}\")\n",
    "print(f\"Best Parameter Set: {best_params}\")"
   ]
  },
  {
   "cell_type": "code",
   "execution_count": 110,
   "id": "5f87ef4c-e3a4-40a3-b2f3-1aaa404ffa99",
   "metadata": {},
   "outputs": [
    {
     "name": "stdout",
     "output_type": "stream",
     "text": [
      "============================================================\n",
      "TRANING METRICS\n",
      "============================================================\n",
      "Accuracy:  0.97\n",
      "Precision:  1.00\n",
      "Recall:  0.08\n",
      "F1:  0.15\n",
      "============================================================\n",
      "TEST METRICS\n",
      "============================================================\n",
      "Accuracy:  0.96\n",
      "Precision:  0.00\n",
      "Recall:  0.00\n",
      "F1:  0.00\n"
     ]
    }
   ],
   "source": [
    "# Train with best set of hyperparameter\n",
    "model = RandomForestClassifier(**best_params)\n",
    "train_evaluate(model)"
   ]
  },
  {
   "cell_type": "code",
   "execution_count": 112,
   "id": "e4bef4e6-f7d8-46e4-9372-ebe209b3f455",
   "metadata": {},
   "outputs": [],
   "source": [
    "# Save the model\n",
    "trained_model_path = os.path.join(model_path, \"rfcmodel.pkl\")\n",
    "with open(trained_model_path, \"wb\") as trained_model:\n",
    "    pickle.dump(model, trained_model)"
   ]
  },
  {
   "cell_type": "code",
   "execution_count": null,
   "id": "71c28cd7-5f46-457c-9a71-1786af34837e",
   "metadata": {},
   "outputs": [],
   "source": []
  }
 ],
 "metadata": {
  "kernelspec": {
   "display_name": "Python 3 (ipykernel)",
   "language": "python",
   "name": "python3"
  },
  "language_info": {
   "codemirror_mode": {
    "name": "ipython",
    "version": 3
   },
   "file_extension": ".py",
   "mimetype": "text/x-python",
   "name": "python",
   "nbconvert_exporter": "python",
   "pygments_lexer": "ipython3",
   "version": "3.11.9"
  }
 },
 "nbformat": 4,
 "nbformat_minor": 5
}
